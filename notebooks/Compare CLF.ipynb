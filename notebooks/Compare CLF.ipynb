{
 "cells": [
  {
   "cell_type": "code",
   "execution_count": 24,
   "metadata": {
    "collapsed": true
   },
   "outputs": [],
   "source": [
    "import numpy as np\n",
    "import matplotlib\n",
    "matplotlib.use('Qt5Agg', warn=False, force=True)\n",
    "import matplotlib.pyplot as plt\n",
    "import itertools\n",
    "\n",
    "\n",
    "\n",
    "def plot_confusion_matrix(cm, classes,\n",
    "                          normalize=False,\n",
    "                          title='Confusion matrix',\n",
    "                          cmap=plt.cm.Blues):\n",
    "    \"\"\"\n",
    "    This function prints and plots the confusion matrix.\n",
    "    Normalization can be applied by setting `normalize=True`.\n",
    "    \"\"\"\n",
    "\n",
    "    cm_orig = cm\n",
    "    if normalize:\n",
    "        cm = cm.astype('float') / cm.sum(axis=1)[:, np.newaxis]\n",
    "        print(\"Normalized confusion matrix\")\n",
    "    else:\n",
    "        print('Confusion matrix, without normalization')\n",
    "    \n",
    "    plt.figure(figsize=(6, 6))\n",
    "    matplotlib.rc('font', size=16)\n",
    "    ttl = plt.title(title)\n",
    "    ttl.set_position([.5, 1.05])\n",
    "    plt.imshow(cm, interpolation='nearest', vmin=0, vmax=1, cmap=cmap)\n",
    "    plt.colorbar()\n",
    "    tick_marks = np.arange(len(classes))\n",
    "    plt.xticks(tick_marks, classes, rotation=45)\n",
    "    plt.yticks(tick_marks, classes)\n",
    "    \n",
    "    print(cm)\n",
    "\n",
    "    thresh = cm.max() / 2.\n",
    "    for i, j in itertools.product(range(cm.shape[0]), range(cm.shape[1])):\n",
    "        plt.text(j , i + 0.07, cm_orig[i, j],\n",
    "                 horizontalalignment=\"center\",\n",
    "                 color=\"white\" if cm[i, j] > thresh else \"black\")\n",
    "\n",
    "    plt.tight_layout()\n",
    "    plt.ylabel('True label')\n",
    "    plt.xlabel('Predicted label')\n",
    "    \n",
    "    plt.subplots_adjust(left=0.14)"
   ]
  },
  {
   "cell_type": "raw",
   "metadata": {},
   "source": [
    "CNN:\n",
    "\n",
    "             precision    recall  f1-score   support\n",
    "\n",
    "    class 0       0.78      0.73      0.75      1121\n",
    "    class 1       0.59      0.75      0.66       281\n",
    "    class 2       0.61      0.62      0.62       282\n",
    "    class 3       0.71      0.69      0.70       283\n",
    "\n",
    "avg / total       0.72      0.71      0.71      1967\n",
    "\n",
    "Got accuracy of 0.711743772242\n",
    "\n",
    "Confusion Matrix:\n",
    "[[818 133 105  65]\n",
    " [ 65 210   0   6]\n",
    " [ 97   1 176   8]\n",
    " [ 71  10   6 196]]\n",
    " \n",
    " \\begin{tabular}{ l c r }\n",
    "            &precision  & recall &f1-score & support \\\\\n",
    "\n",
    "    class 0 &     0.78  &   0.73 &    0.75 &    1121 \\\\\n",
    "    class 1 &     0.59  &   0.75 &    0.66 &     281 \\\\\n",
    "    class 2 &     0.61  &   0.62 &    0.62 &     282 \\\\\n",
    "    class 3       0.71      0.69      0.70       283\n",
    "\n",
    "avg / total       0.72      0.71      0.71      1967\n",
    "\\end{tabular}"
   ]
  },
  {
   "cell_type": "code",
   "execution_count": 25,
   "metadata": {
    "collapsed": false
   },
   "outputs": [
    {
     "name": "stdout",
     "output_type": "stream",
     "text": [
      "Normalized confusion matrix\n",
      "[[ 0.72970562  0.11864407  0.09366637  0.05798394]\n",
      " [ 0.23131673  0.74733096  0.          0.02135231]\n",
      " [ 0.34397163  0.0035461   0.62411348  0.02836879]\n",
      " [ 0.25088339  0.03533569  0.02120141  0.69257951]]\n"
     ]
    }
   ],
   "source": [
    "cm = np.array([[818, 133, 105,  65],\n",
    "               [ 65, 210,   0,   6],\n",
    "               [ 97,   1, 176,   8],\n",
    "               [ 71,  10,   6, 196]])\n",
    "\n",
    "target_names = [\"0 Hz\", \"7.5 Hz\", \"10 Hz\", \"12 Hz\"]\n",
    "plot_confusion_matrix(cm, target_names, normalize=True, title=\"Convolutional Neural Network\")\n",
    "plt.show()"
   ]
  },
  {
   "cell_type": "raw",
   "metadata": {},
   "source": [
    "SVM Poly. Kernel 3:\n",
    "\n",
    "            precision    recall  f1-score   support\n",
    "\n",
    "    class 0       0.86      0.69      0.77      1121\n",
    "    class 1       0.58      0.85      0.69       281\n",
    "    class 2       0.60      0.72      0.65       282\n",
    "    class 3       0.72      0.78      0.75       283\n",
    "\n",
    "avg / total       0.76      0.73      0.74      1967\n",
    "\n",
    "Got accuracy of 0.733096085409\n",
    "\n",
    "Confusion Matrix:\n",
    "[[778 152 127  64]\n",
    " [ 26 240   4  11]\n",
    " [ 63   5 202  12]\n",
    " [ 40  15   6 222]]"
   ]
  },
  {
   "cell_type": "code",
   "execution_count": 26,
   "metadata": {
    "collapsed": false
   },
   "outputs": [
    {
     "name": "stdout",
     "output_type": "stream",
     "text": [
      "Normalized confusion matrix\n",
      "[[ 0.69402319  0.13559322  0.1132917   0.05709188]\n",
      " [ 0.09252669  0.85409253  0.01423488  0.03914591]\n",
      " [ 0.22340426  0.0177305   0.71631206  0.04255319]\n",
      " [ 0.14134276  0.05300353  0.02120141  0.7844523 ]]\n"
     ]
    }
   ],
   "source": [
    "cm = np.array([[778, 152, 127,  64],\n",
    "               [ 26, 240,   4,  11],\n",
    "               [ 63,   5, 202,  12],\n",
    "               [ 40,  15,   6, 222]])\n",
    "\n",
    "target_names = [\"0 Hz\", \"7.5 Hz\", \"10 Hz\", \"12 Hz\"]\n",
    "plot_confusion_matrix(cm, target_names, normalize=True, title=\"Support Vector Machine with\\nPloynomial (degree=3) Kernel\")\n",
    "plt.show()"
   ]
  },
  {
   "cell_type": "raw",
   "metadata": {},
   "source": [
    "GNB:\n",
    "    \n",
    "             precision    recall  f1-score   support\n",
    "\n",
    "    class 0       0.62      0.41      0.50      1121\n",
    "    class 1       0.24      0.67      0.35       281\n",
    "    class 2       0.57      0.44      0.50       282\n",
    "    class 3       0.56      0.43      0.49       283\n",
    "\n",
    "avg / total       0.55      0.46      0.48      1967\n",
    "\n",
    "Got accuracy of 0.45754956787\n",
    "\n",
    "Confusion Matrix:\n",
    "[[465 485  88  83]\n",
    " [ 86 188   5   2]\n",
    " [ 96  52 124  10]\n",
    " [104  55   1 123]]\n"
   ]
  },
  {
   "cell_type": "code",
   "execution_count": 27,
   "metadata": {
    "collapsed": false
   },
   "outputs": [
    {
     "name": "stdout",
     "output_type": "stream",
     "text": [
      "Normalized confusion matrix\n",
      "[[ 0.41480821  0.43264942  0.07850134  0.07404103]\n",
      " [ 0.30604982  0.66903915  0.01779359  0.00711744]\n",
      " [ 0.34042553  0.18439716  0.43971631  0.03546099]\n",
      " [ 0.36749117  0.19434629  0.00353357  0.43462898]]\n"
     ]
    }
   ],
   "source": [
    "cm = np.array([[465, 485,  88,  83],\n",
    "               [ 86, 188,   5,   2],\n",
    "               [ 96,  52, 124,  10],\n",
    "               [104,  55,   1, 123]])\n",
    "\n",
    "target_names = [\"0 Hz\", \"7.5 Hz\", \"10 Hz\", \"12 Hz\"]\n",
    "plot_confusion_matrix(cm, target_names, normalize=True, title=\"Gaussian Naive Bayes Classifier\")\n",
    "plt.show()"
   ]
  },
  {
   "cell_type": "code",
   "execution_count": null,
   "metadata": {
    "collapsed": true
   },
   "outputs": [],
   "source": []
  }
 ],
 "metadata": {
  "kernelspec": {
   "display_name": "Python 3",
   "language": "python",
   "name": "python3"
  },
  "language_info": {
   "codemirror_mode": {
    "name": "ipython",
    "version": 3
   },
   "file_extension": ".py",
   "mimetype": "text/x-python",
   "name": "python",
   "nbconvert_exporter": "python",
   "pygments_lexer": "ipython3",
   "version": "3.4.5"
  }
 },
 "nbformat": 4,
 "nbformat_minor": 2
}
